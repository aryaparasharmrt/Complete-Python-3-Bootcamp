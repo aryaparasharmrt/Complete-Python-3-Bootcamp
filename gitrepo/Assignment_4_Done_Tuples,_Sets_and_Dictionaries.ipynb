{
  "nbformat": 4,
  "nbformat_minor": 0,
  "metadata": {
    "kernelspec": {
      "display_name": "Python 3",
      "language": "python",
      "name": "python3"
    },
    "language_info": {
      "codemirror_mode": {
        "name": "ipython",
        "version": 3
      },
      "file_extension": ".py",
      "mimetype": "text/x-python",
      "name": "python",
      "nbconvert_exporter": "python",
      "pygments_lexer": "ipython3",
      "version": "3.7.4"
    },
    "colab": {
      "name": " Assignment 4 Done - Tuples, Sets and Dictionaries.ipynb",
      "provenance": [],
      "collapsed_sections": [],
      "include_colab_link": true
    }
  },
  "cells": [
    {
      "cell_type": "markdown",
      "metadata": {
        "id": "view-in-github",
        "colab_type": "text"
      },
      "source": [
        "<a href=\"https://colab.research.google.com/github/aryaparasharmrt/Complete-Python-3-Bootcamp/blob/master/gitrepo/Assignment_4_Done_Tuples%2C_Sets_and_Dictionaries.ipynb\" target=\"_parent\"><img src=\"https://colab.research.google.com/assets/colab-badge.svg\" alt=\"Open In Colab\"/></a>"
      ]
    },
    {
      "cell_type": "markdown",
      "metadata": {
        "id": "8WbUJEVzs8Bx"
      },
      "source": [
        "## <u>While doing this assignment only use those concepts which have been taught till now</u>"
      ]
    },
    {
      "cell_type": "markdown",
      "metadata": {
        "id": "KjPWYK0Rs8By"
      },
      "source": [
        "## <u>Problem 1</u>\n",
        "\n",
        "### Another measure of average\n",
        "\n",
        "* Mode is defined as the value that appears most often in a set of data values. Mode corresponds to the most frequent value.\n",
        "* You are given a list of numbers and you need to calculate the mode of this list"
      ]
    },
    {
      "cell_type": "code",
      "metadata": {
        "id": "34TbaGurs8Bz",
        "colab": {
          "base_uri": "https://localhost:8080/"
        },
        "outputId": "8a1bd25a-d5b1-48a9-e990-c65fb4346c27"
      },
      "source": [
        "# A list containing average daily temperature over 10 days\n",
        "temperatures = [34, 40, 29, 33, 42, 40, 39, 34, 34,33 ]\n",
        "len(temperatures)%2==0"
      ],
      "execution_count": null,
      "outputs": [
        {
          "output_type": "execute_result",
          "data": {
            "text/plain": [
              "True"
            ]
          },
          "metadata": {
            "tags": []
          },
          "execution_count": 15
        }
      ]
    },
    {
      "cell_type": "code",
      "metadata": {
        "id": "N1Yhpkiws8B3"
      },
      "source": [
        "# Step 1 : Find the unique set of values. Store this in a list\n",
        "unique_temperatures = set(temperatures)"
      ],
      "execution_count": null,
      "outputs": []
    },
    {
      "cell_type": "code",
      "metadata": {
        "id": "KpMdlB5Fs8B8",
        "colab": {
          "base_uri": "https://localhost:8080/"
        },
        "outputId": "30c4aadc-7aa7-4763-fe43-73512f802796"
      },
      "source": [
        "# Print the unique temperature list\n",
        "print(unique_temperatures)"
      ],
      "execution_count": null,
      "outputs": [
        {
          "output_type": "stream",
          "text": [
            "{33, 34, 39, 40, 42, 29}\n"
          ],
          "name": "stdout"
        }
      ]
    },
    {
      "cell_type": "code",
      "metadata": {
        "id": "J7CyJi_Ls8B_",
        "colab": {
          "base_uri": "https://localhost:8080/"
        },
        "outputId": "0a427677-a6a5-4264-e6a6-07e70b945ce2"
      },
      "source": [
        "# Step 2 : Create an empty dictionary which will contain the unique temperatures as keys and their counts in the original temperatures list as values\n",
        "temp_dict = { }\n",
        "\n",
        "# Set the values for each key separately\n",
        "# First key\n",
        "temp_dict[33]=temperatures.count(33)\n",
        "\n",
        "\n",
        "# Second key\n",
        "temp_dict[34]=temperatures.count(34)\n",
        "\n",
        "\n",
        "# Third key\n",
        "temp_dict[39]=temperatures.count(39)\n",
        "\n",
        "\n",
        "# Fourth key\n",
        "temp_dict[40]=temperatures.count(40)\n",
        "\n",
        "\n",
        "# Fifth key\n",
        "temp_dict[42]=temperatures.count(42)\n",
        "\n",
        "\n",
        "# Sixth key\n",
        "temp_dict[29]=temperatures.count(29)\n",
        "\n",
        "print(temp_dict)"
      ],
      "execution_count": null,
      "outputs": [
        {
          "output_type": "stream",
          "text": [
            "{33: 2, 34: 3, 39: 1, 40: 2, 42: 1, 29: 1}\n"
          ],
          "name": "stdout"
        }
      ]
    },
    {
      "cell_type": "code",
      "metadata": {
        "id": "4-ZxbmMxtWfQ",
        "colab": {
          "base_uri": "https://localhost:8080/"
        },
        "outputId": "4c163def-1d6d-4fff-fdce-7179fd168c47"
      },
      "source": [
        "# Step 3: Store the dictionary values in a list\n",
        "temp_dict_frequencies = list(temp_dict.values())\n",
        "\n",
        "# Print the list of dictionary values\n",
        "print(temp_dict_frequencies)\n",
        "# Find the index of the most frequent temperature value\n",
        "most_frequent_temp_index = temp_dict_frequencies.index(max(list(temp_dict.values())))\n",
        "\n",
        "# Print the index\n",
        "print(most_frequent_temp_index)"
      ],
      "execution_count": null,
      "outputs": [
        {
          "output_type": "stream",
          "text": [
            "[2, 3, 1, 2, 1, 1]\n",
            "1\n"
          ],
          "name": "stdout"
        }
      ]
    },
    {
      "cell_type": "code",
      "metadata": {
        "id": "riu9mZhcwBY6",
        "colab": {
          "base_uri": "https://localhost:8080/"
        },
        "outputId": "422b0d31-552b-4a8e-ce19-d31677cb2beb"
      },
      "source": [
        "# Step 4 : Create the list of dictionary keys\n",
        "temp_dict_keys = list(temp_dict.keys())\n",
        "\n",
        "# Print the list of dictionary keys\n",
        "print(temp_dict_keys)\n",
        "\n",
        "# Calculate the mode temperature\n",
        "mean=sum(temperatures)/len(temperatures)\n",
        "n=len(temperatures)-1\n",
        "median=(temperatures[n//2]+temperatures[(n//2)+1])/2\n",
        "mode_temp = (3*median)-(2*mean)\n",
        "mode_temp"
      ],
      "execution_count": null,
      "outputs": [
        {
          "output_type": "stream",
          "text": [
            "[33, 34, 39, 40, 42, 29]\n"
          ],
          "name": "stdout"
        },
        {
          "output_type": "execute_result",
          "data": {
            "text/plain": [
              "51.400000000000006"
            ]
          },
          "metadata": {
            "tags": []
          },
          "execution_count": 18
        }
      ]
    },
    {
      "cell_type": "markdown",
      "metadata": {
        "id": "5qd8g8UUs8CM"
      },
      "source": [
        "## <u>Problem 2 </u>\n",
        "\n",
        "### Challenging the immutability of tuples\n",
        "\n",
        "You are given a list of tuples. You need to replace the last element of the last tuple"
      ]
    },
    {
      "cell_type": "code",
      "metadata": {
        "id": "FBJy9Sq_s8CN"
      },
      "source": [
        "# Input list of tuples\n",
        "\n",
        "list_of_tuples = [(10,20,30),(30,40,50),(50,60,70)]\n",
        "\n",
        "\n",
        "# Expected output : Replace the last element 70 with 100\n",
        "# output_list = [(10,20,30),(30,40,50),(50,60,100)]"
      ],
      "execution_count": null,
      "outputs": []
    },
    {
      "cell_type": "code",
      "metadata": {
        "id": "UNtYax1as8CR",
        "colab": {
          "base_uri": "https://localhost:8080/"
        },
        "outputId": "eae23364-24b6-4d9d-9156-b573415c35f8"
      },
      "source": [
        "# Your code here \n",
        "list_of_tuples.pop(-1)\n",
        "list_of_tuples.append((50,60,100))\n",
        "list_of_tuples\n",
        "#im  sure that its a good way to replace an item in tuple \n",
        "\n",
        "# Print the output list\n"
      ],
      "execution_count": null,
      "outputs": [
        {
          "output_type": "execute_result",
          "data": {
            "text/plain": [
              "[(10, 20, 30), (30, 40, 50), (50, 60, 100)]"
            ]
          },
          "metadata": {
            "tags": []
          },
          "execution_count": 21
        }
      ]
    },
    {
      "cell_type": "markdown",
      "metadata": {
        "id": "ejRCi-vTs8CU"
      },
      "source": [
        "## <u> Problem 3 </u>\n",
        "\n",
        "Natural Language Processing or NLP is one of the most promising fields in Machine Learning. Most of the times in NLP we deal with the textual data (a bunch of strings). Sometimes when we are processing the text, it is a common practice to get rid of some set of stop words from our original text. By default stop words are very common words used in English language such as and, or, punctuations etc.\n",
        "\n",
        "In this exercise, you are provided with a default set of stop words and you need to add some extra set of custom words."
      ]
    },
    {
      "cell_type": "code",
      "metadata": {
        "id": "C5olNuDGs8CU",
        "colab": {
          "base_uri": "https://localhost:8080/"
        },
        "outputId": "fbd9b05b-b624-48d8-d978-311cb4572618"
      },
      "source": [
        "# A sample sentence \n",
        "\n",
        "sentence = 'Hello, good morning folks! Today we will announce the half yearly performance results of the company. Due to the ongoing COVID-19 pandemic, our profits have declined by 60% as compared to the last half yearly results'\n",
        "\n",
        "# Print your sentence\n",
        "print(sentence)"
      ],
      "execution_count": null,
      "outputs": [
        {
          "output_type": "stream",
          "text": [
            "Hello, good morning folks! Today we will announce the half yearly performance results of the company. Due to the ongoing COVID-19 pandemic, our profits have declined by 60% as compared to the last half yearly results\n"
          ],
          "name": "stdout"
        }
      ]
    },
    {
      "cell_type": "code",
      "metadata": {
        "id": "B4afm8gCs8CY"
      },
      "source": [
        "# Default set of stop words \n",
        "stop_words = {\"i\", \"me\", \"my\", \"myself\", \"we\", \"our\", \"ours\", \"ourselves\", \"you\", \"your\", \"yours\", \"yourself\", \n",
        "              \"yourselves\", \"he\", \"him\", \"his\", \"himself\", \"she\", \"her\", \"hers\", \"herself\", \"it\", \"its\", \"itself\",\n",
        "              \"they\", \"them\", \"their\", \"theirs\", \"themselves\", \"what\", \"which\", \"who\", \"whom\", \"this\", \"that\",\n",
        "              \"these\", \"those\", \"am\", \"is\", \"are\", \"was\", \"were\", \"be\", \"been\", \"being\", \"have\", \"has\", \"had\",\n",
        "              \"having\", \"do\", \"does\", \"did\", \"doing\", \"a\", \"an\", \"the\", \"and\", \"but\", \"if\", \"or\", \"because\",\n",
        "              \"as\", \"until\", \"while\", \"of\", \"at\", \"by\", \"for\", \"with\", \"about\", \"against\", \"between\", \"into\",\n",
        "              \"through\", \"during\", \"before\", \"after\", \"above\", \"below\", \"to\", \"from\", \"up\", \"down\", \"in\", \"out\", \n",
        "              \"on\", \"off\", \"over\", \"under\", \"again\", \"further\", \"then\", \"once\", \"here\", \"there\", \"when\", \"where\",\n",
        "              \"why\", \"how\", \"all\", \"any\", \"both\", \"each\", \"few\", \"more\", \"most\", \"other\", \"some\", \"such\", \"no\",\n",
        "              \"nor\", \"not\", \"only\", \"own\", \"same\", \"so\", \"than\", \"too\", \"very\", \"s\", \"t\", \"can\", \"will\", \"just\",\n",
        "              \"don\", \"should\", \"now\"}\n"
      ],
      "execution_count": null,
      "outputs": []
    },
    {
      "cell_type": "code",
      "metadata": {
        "id": "evgHHnRks8Cc",
        "colab": {
          "base_uri": "https://localhost:8080/"
        },
        "outputId": "24ab821e-673a-4653-dcb8-f13ea6a96ec2"
      },
      "source": [
        "# Update the set of stop words by adding the custom stop words\n",
        "custom_stop_words = [\"hello\",\"good\",\"morning\",\"half\",\"yearly\"]\n",
        "\n",
        "# Your code heres\n",
        "stop_words.update(custom_stop_words)\n",
        "\n",
        "# Print the updated stop words\n",
        "print(stop_words)"
      ],
      "execution_count": null,
      "outputs": [
        {
          "output_type": "stream",
          "text": [
            "{'having', 'can', 'few', 'between', 'at', 'was', 'each', 'did', 'above', 'has', 'yearly', 'do', 'myself', 'once', 'been', 'now', 'own', 'himself', 'on', 'here', 'yours', 'which', 'it', 'hello', 'he', 'our', 'or', 'does', 'because', 'too', 'through', 'ourselves', 'this', 'how', 'only', 'is', 'i', 'a', 'his', 'before', 'should', 'more', 'as', 'were', 'but', 'why', 'good', 'had', 'not', 'most', 'other', 'theirs', 'no', 'nor', 'and', 'that', 'in', 't', 'who', 'again', 'half', 'those', 'ours', 'yourself', 'have', 'from', 'below', 'these', 'than', 'off', 'when', 'during', 'an', 'herself', 'up', 'to', 'are', 'further', 'my', 'being', 'morning', 'doing', 'such', 'what', 'of', 'yourselves', 'be', 'their', 'by', 'them', 'until', 'its', 'both', 'itself', 'so', 'very', 'me', 'him', 'if', 's', 'just', 'down', 'for', 'while', 'you', 'into', 'over', 'some', 'themselves', 'her', 'any', 'then', 'under', 'after', 'we', 'will', 'about', 'they', 'where', 'same', 'against', 'she', 'don', 'hers', 'the', 'there', 'your', 'whom', 'am', 'with', 'out', 'all'}\n"
          ],
          "name": "stdout"
        }
      ]
    },
    {
      "cell_type": "code",
      "metadata": {
        "id": "1QbZrotrtIE3",
        "colab": {
          "base_uri": "https://localhost:8080/"
        },
        "outputId": "2de4f49a-4be3-4d3a-fa6f-b28326b7840c"
      },
      "source": [
        "# Do the same task another way. Keep in mind to use the original set of stop_words for this piece of code\n",
        "#stop_words.add('\"hello\",\"good\",\"morning\",\"half\",\"yearly\"')\n",
        "p=set(custom_stop_words)\n",
        "\n",
        "# Print the updated stop words\n",
        "print(stop_words|p)"
      ],
      "execution_count": null,
      "outputs": [
        {
          "output_type": "stream",
          "text": [
            "{'having', 'can', 'few', 'between', 'at', 'was', 'each', 'did', 'above', 'has', 'yearly', 'do', 'myself', 'once', 'been', 'now', 'own', 'himself', 'on', 'here', 'yours', 'which', 'it', 'hello', 'he', 'our', 'or', 'does', 'because', 'too', 'through', 'ourselves', 'this', 'how', 'only', 'is', 'i', 'a', 'his', 'before', 'should', 'more', 'as', 'were', 'but', 'why', 'good', 'had', 'not', 'most', 'other', 'theirs', 'no', 'nor', 'and', 'that', 'in', 't', 'who', 'again', 'half', 'those', 'ours', 'yourself', 'have', 'from', 'below', 'these', 'than', 'off', 'when', 'during', 'an', 'herself', 'up', 'to', 'are', 'further', 'my', 'being', 'morning', 'doing', 'such', 'what', 'of', 'yourselves', 'be', 'their', 'by', 'them', 'until', 'its', 'both', 'itself', 'so', 'very', 'me', 'him', 'if', 's', 'just', 'down', 'for', 'while', 'you', 'into', 'over', 'some', 'themselves', 'her', 'any', 'then', 'under', 'after', 'we', 'will', 'about', 'they', 'where', 'same', 'against', 'she', 'don', 'hers', 'the', 'there', 'your', 'whom', 'am', 'with', 'out', 'all'}\n"
          ],
          "name": "stdout"
        }
      ]
    },
    {
      "cell_type": "markdown",
      "metadata": {
        "id": "P1rOYC8Is8Cf"
      },
      "source": [
        "## <u>Problem 4</u>\n",
        "\n",
        " Write a Python script to check whether a given key already exists in a dictionary. If it does, drop that key from the dictionary. If it does not, add that key and corresponding value to the dictionary"
      ]
    },
    {
      "cell_type": "code",
      "metadata": {
        "id": "ySeGyCtCs8Cg"
      },
      "source": [
        "# Your dictionary\n",
        "employee_dict = {'Name':'Sanket','Skills':['Python','Machine Learning','Deep Learning'],'Band':6.0,\n",
        "                 'Promotion Year':[2016,2018,2020]}"
      ],
      "execution_count": null,
      "outputs": []
    },
    {
      "cell_type": "code",
      "metadata": {
        "id": "MI7mOHaqs8Cj"
      },
      "source": [
        "# Check if the key 'Employee_ID' is present in the dictionary. Hint : use a boolean variable to store this value\n",
        "'Employee_ID' in employee_dict.keys()\n",
        "#Bool_val=employee_dict.get('Employee_ID',\"False\")\n",
        "#print(Bool_val)\n",
        "\n",
        "# If not present add this key to this dictionary and the corresponding value to be 4503233\n",
        "employee_dict[\"Employee_ID\"]=(1232324)"
      ],
      "execution_count": null,
      "outputs": []
    },
    {
      "cell_type": "code",
      "metadata": {
        "id": "ARPbZfY8s8Co",
        "colab": {
          "base_uri": "https://localhost:8080/"
        },
        "outputId": "4c9637a2-8b62-4c35-cd66-0f628c8dcc97"
      },
      "source": [
        "# Check if the key 'Band' is present in the dictionary.\n",
        "t='z' in employee_dict.values()\n",
        "print(t)\n",
        "#z=employee_dict.get('Band',\"False\")\n",
        "#print(z)\n",
        "# If present, drop this key from the dictionary\n",
        "employee_dict.pop('Band')"
      ],
      "execution_count": null,
      "outputs": [
        {
          "output_type": "stream",
          "text": [
            "False\n"
          ],
          "name": "stdout"
        },
        {
          "output_type": "execute_result",
          "data": {
            "text/plain": [
              "6.0"
            ]
          },
          "metadata": {
            "tags": []
          },
          "execution_count": 14
        }
      ]
    },
    {
      "cell_type": "code",
      "metadata": {
        "id": "lUDbbyXmulzh",
        "colab": {
          "base_uri": "https://localhost:8080/"
        },
        "outputId": "a95d75cb-7636-488c-bd39-c8fb5bf0d66e"
      },
      "source": [
        "# Print the updated dictionary\n",
        "print(employee_dict)"
      ],
      "execution_count": null,
      "outputs": [
        {
          "output_type": "stream",
          "text": [
            "{'Name': 'Sanket', 'Skills': ['Python', 'Machine Learning', 'Deep Learning'], 'Promotion Year': [2016, 2018, 2020], 'Employee_ID': 1232324}\n"
          ],
          "name": "stdout"
        }
      ]
    },
    {
      "cell_type": "code",
      "metadata": {
        "id": "Xx4DIPMkrNVU"
      },
      "source": [
        ""
      ],
      "execution_count": null,
      "outputs": []
    }
  ]
}